{
 "cells": [
  {
   "cell_type": "code",
   "execution_count": 2,
   "metadata": {
    "collapsed": false
   },
   "outputs": [],
   "source": [
    "import xgboost as xgb\n",
    "import lightgbm as lgb\n",
    "from sklearn.ensemble import RandomForestClassifier\n",
    "from sklearn.model_selection import train_test_split\n",
    "from sklearn.datasets import make_classification\n",
    "\n",
    "X, y = make_classification(n_features=50, n_redundant=0, n_informative=25, n_clusters_per_class=10, n_samples=5000)\n",
    "X_train, X_test, y_train, y_test = train_test_split(X, y, test_size=0.2, random_state=42)\n",
    "\n",
    "dtrain = xgb.DMatrix(X_train, label=y_train)\n",
    "dtest = xgb.DMatrix(X_test, label=y_test)\n",
    "\n",
    "lgb_train = lgb.Dataset(X_train, label=y_train)\n",
    "lgb_eval = lgb.Dataset(X_test, y_test, reference=lgb_train)\n"
   ]
  },
  {
   "cell_type": "code",
   "execution_count": 9,
   "metadata": {
    "collapsed": true
   },
   "outputs": [],
   "source": [
    "def defineParameters(jobs):\n",
    "    paramxgb = {\n",
    "        'silent': 1,\n",
    "        'objective': 'binary:logistic',  \n",
    "        'verbose': False,\n",
    "        'eta': 0.1,\n",
    "        'max_depth': 8,\n",
    "        'nthread': jobs,\n",
    "        'min_child_weight': 100,\n",
    "    }\n",
    "\n",
    "    paramlgb = {\n",
    "        'learning_rate': 0.1,\n",
    "        'num_leaves': 255,\n",
    "        'num_threads': jobs,\n",
    "        'min_data_in_leaf': 0,\n",
    "        'min_sum_hessian_in_leaf': 100,\n",
    "        'verbose': -1,\n",
    "        'metric': 'binary',\n",
    "    }\n",
    "\n",
    "    paramRf = {\n",
    "        'max_depth': 8,\n",
    "        'max_features': 50\n",
    "    }\n",
    "    return paramxgb, paramlgb, paramRf"
   ]
  },
  {
   "cell_type": "code",
   "execution_count": 4,
   "metadata": {
    "collapsed": false
   },
   "outputs": [],
   "source": [
    "def timeXGBoost():\n",
    "    print \"*** XGBoost ***\"\n",
    "    %timeit xgb.train(paramxgb, dtrain, training_iterations)"
   ]
  },
  {
   "cell_type": "code",
   "execution_count": 5,
   "metadata": {
    "collapsed": false
   },
   "outputs": [],
   "source": [
    "def timeLightGBM():\n",
    "    print \"*** LightGBM ***\"\n",
    "    %timeit lgb.train(paramlgb, lgb_train, training_iterations)"
   ]
  },
  {
   "cell_type": "code",
   "execution_count": 13,
   "metadata": {
    "collapsed": false
   },
   "outputs": [],
   "source": [
    "def timeRF():\n",
    "    print \"*** Random Forest ***\"\n",
    "    %timeit RandomForestClassifier(max_depth=paramRf['max_depth'], max_features=paramRf['max_features'],random_state=0, n_estimators=training_iterations, n_jobs=jobs).fit(X_train, y_train)"
   ]
  },
  {
   "cell_type": "code",
   "execution_count": 14,
   "metadata": {
    "collapsed": false
   },
   "outputs": [
    {
     "name": "stdout",
     "output_type": "stream",
     "text": [
      "********************  jobs = 1  ********************\n",
      "*** XGBoost ***\n",
      "1 loop, best of 3: 7.57 s per loop\n",
      "*** LightGBM ***\n",
      "1 loop, best of 3: 2.32 s per loop\n",
      "*** Random Forest ***\n",
      "1 loop, best of 3: 33.3 s per loop\n",
      "********************  jobs = 2  ********************\n",
      "*** XGBoost ***\n",
      "1 loop, best of 3: 4.88 s per loop\n",
      "*** LightGBM ***\n",
      "1 loop, best of 3: 1.59 s per loop\n",
      "*** Random Forest ***\n",
      "1 loop, best of 3: 21.1 s per loop\n",
      "********************  jobs = 4  ********************\n",
      "*** XGBoost ***\n",
      "1 loop, best of 3: 5.53 s per loop\n",
      "*** LightGBM ***\n",
      "1 loop, best of 3: 1.56 s per loop\n",
      "*** Random Forest ***\n",
      "1 loop, best of 3: 15.8 s per loop\n",
      "********************  jobs = 8 ********************\n",
      "*** XGBoost ***\n",
      "1 loop, best of 3: 4.58 s per loop\n",
      "*** LightGBM ***\n",
      "1 loop, best of 3: 1.62 s per loop\n",
      "*** Random Forest ***\n",
      "1 loop, best of 3: 13.3 s per loop\n",
      "********************  jobs = 16  ********************\n",
      "*** XGBoost ***\n",
      "1 loop, best of 3: 5.04 s per loop\n",
      "*** LightGBM ***\n",
      "1 loop, best of 3: 1.59 s per loop\n",
      "*** Random Forest ***\n",
      "1 loop, best of 3: 11.9 s per loop\n"
     ]
    }
   ],
   "source": [
    "training_iterations = 200  # the number of training iterations\n",
    "jobs = 1\n",
    "paramxgb, paramlgb, paramRf = defineParameters(jobs)\n",
    "print \"*\" * 20 + \"  jobs = 1  \" + \"*\" * 20\n",
    "timeXGBoost()\n",
    "timeLightGBM()\n",
    "timeRF()\n",
    "\n",
    "jobs = 2\n",
    "paramxgb, paramlgb, paramRf = defineParameters(jobs)\n",
    "print \"*\" * 20 + \"  jobs = 2  \" + \"*\" * 20\n",
    "timeXGBoost()\n",
    "timeLightGBM()\n",
    "timeRF()\n",
    "\n",
    "jobs = 4\n",
    "paramxgb, paramlgb, paramRf = defineParameters(jobs)\n",
    "print \"*\" * 20 + \"  jobs = 4  \" + \"*\" * 20\n",
    "timeXGBoost()\n",
    "timeLightGBM()\n",
    "timeRF()\n",
    "\n",
    "jobs = 8\n",
    "paramxgb, paramlgb, paramRf = defineParameters(jobs)\n",
    "print \"*\" * 20 + \"  jobs = 8 \" + \"*\" * 20\n",
    "timeXGBoost()\n",
    "timeLightGBM()\n",
    "timeRF()\n",
    "\n",
    "jobs = 16\n",
    "paramxgb, paramlgb, paramRf = defineParameters(jobs)\n",
    "print \"*\" * 20 + \"  jobs = 16  \" + \"*\" * 20\n",
    "timeXGBoost()\n",
    "timeLightGBM()\n",
    "timeRF()"
   ]
  }
 ],
 "metadata": {
  "kernelspec": {
   "display_name": "Python 2",
   "language": "python",
   "name": "python2"
  }
 },
 "nbformat": 4,
 "nbformat_minor": 2
}
